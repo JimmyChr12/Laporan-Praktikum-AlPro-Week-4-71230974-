{
 "cells": [
  {
   "cell_type": "code",
   "execution_count": 4,
   "id": "4005e75f",
   "metadata": {},
   "outputs": [
    {
     "name": "stdout",
     "output_type": "stream",
     "text": [
      "True\n",
      "True\n",
      "True\n",
      "True\n",
      "False\n",
      "True\n",
      "False\n",
      "False\n",
      "False\n"
     ]
    }
   ],
   "source": [
    "def cek_angka(angka1,angka2,angka3):\n",
    "    if angka1 != angka2 != angka3 and angka1 + angka2 == angka3 or angka1 + angka3 == angka2 or angka2 + angka3 == angka1:\n",
    "        return (True)\n",
    "    else:\n",
    "        return (False)\n",
    "\n",
    "print (cek_angka(2,10,12))\n",
    "print (cek_angka(9,6,3))\n",
    "print (cek_angka(141,241,100))\n",
    "print (cek_angka(-2,3,5))\n",
    "print (cek_angka(-2,-5,-9))\n",
    "print (cek_angka(-5,-3,-2))\n",
    "print (cek_angka(-2,-3,-2))\n",
    "print (cek_angka(-3,-3,-2))\n",
    "print (cek_angka(-5,-5,-5))"
   ]
  },
  {
   "cell_type": "code",
   "execution_count": 5,
   "id": "6dc4c632",
   "metadata": {},
   "outputs": [
    {
     "name": "stdout",
     "output_type": "stream",
     "text": [
      "Masukkan angka pertama: 53\n",
      "Masukkan angka kedua: 8900\n",
      "Masukkan angka ketiga: 658\n",
      "False\n"
     ]
    }
   ],
   "source": [
    "def cek_digit_belakang(angka1,angka2,angka3):\n",
    "    if angka1 % 10 == angka2 % 10 or angka1 % 10 == angka3 % 10 or angka2 % 10 == angka3 % 10:\n",
    "        return (True)\n",
    "    else:\n",
    "        return (False)\n",
    "\n",
    "angka1 = int(input(\"Masukkan angka pertama: \"))\n",
    "angka2 = int(input(\"Masukkan angka kedua: \"))\n",
    "angka3 = int(input(\"Masukkan angka ketiga: \"))\n",
    "\n",
    "print (cek_digit_belakang(angka1,angka2,angka3))"
   ]
  },
  {
   "cell_type": "code",
   "execution_count": 3,
   "id": "39db1338",
   "metadata": {},
   "outputs": [
    {
     "name": "stdout",
     "output_type": "stream",
     "text": [
      "212\n",
      "64\n",
      "32\n"
     ]
    }
   ],
   "source": [
    "celcius_to_fahrenheit = lambda celsius : (9/5) * celsius + 32 \n",
    "celsius_to_reamur = lambda celsius : 0.8 * celsius\n",
    "    \n",
    "print (round(celcius_to_fahrenheit(100)))\n",
    "print (round(celsius_to_reamur(80)))\n",
    "print (round(celcius_to_fahrenheit(0)))"
   ]
  }
 ],
 "metadata": {
  "kernelspec": {
   "display_name": "Python 3 (ipykernel)",
   "language": "python",
   "name": "python3"
  },
  "language_info": {
   "codemirror_mode": {
    "name": "ipython",
    "version": 3
   },
   "file_extension": ".py",
   "mimetype": "text/x-python",
   "name": "python",
   "nbconvert_exporter": "python",
   "pygments_lexer": "ipython3",
   "version": "3.11.5"
  }
 },
 "nbformat": 4,
 "nbformat_minor": 5
}
